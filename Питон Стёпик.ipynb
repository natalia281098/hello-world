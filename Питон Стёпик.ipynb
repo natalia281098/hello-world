{
 "cells": [
  {
   "cell_type": "code",
   "execution_count": 6,
   "metadata": {},
   "outputs": [
    {
     "data": {
      "text/plain": [
       "6"
      ]
     },
     "execution_count": 6,
     "metadata": {},
     "output_type": "execute_result"
    }
   ],
   "source": [
    "#Целочисленное дедение\n",
    "\n",
    "20//3"
   ]
  },
  {
   "cell_type": "code",
   "execution_count": 7,
   "metadata": {},
   "outputs": [
    {
     "data": {
      "text/plain": [
       "2"
      ]
     },
     "execution_count": 7,
     "metadata": {},
     "output_type": "execute_result"
    }
   ],
   "source": [
    "#Остаток от деления\n",
    "\n",
    "20%3"
   ]
  },
  {
   "cell_type": "code",
   "execution_count": 9,
   "metadata": {},
   "outputs": [
    {
     "data": {
      "text/plain": [
       "18064773765607550801425251468864907833685590016"
      ]
     },
     "execution_count": 9,
     "metadata": {},
     "output_type": "execute_result"
    }
   ],
   "source": [
    "2014**14"
   ]
  },
  {
   "cell_type": "code",
   "execution_count": 10,
   "metadata": {},
   "outputs": [
    {
     "data": {
      "text/plain": [
       "1234.5"
      ]
     },
     "execution_count": 10,
     "metadata": {},
     "output_type": "execute_result"
    }
   ],
   "source": [
    "#Умножение на е это умножение на 10 в какой-либо степени е10, е-2\n",
    "\n",
    "1.2345e3 "
   ]
  },
  {
   "cell_type": "code",
   "execution_count": 26,
   "metadata": {},
   "outputs": [
    {
     "data": {
      "text/plain": [
       "str"
      ]
     },
     "execution_count": 26,
     "metadata": {},
     "output_type": "execute_result"
    }
   ],
   "source": [
    "type('a')"
   ]
  },
  {
   "cell_type": "code",
   "execution_count": 42,
   "metadata": {},
   "outputs": [
    {
     "name": "stdout",
     "output_type": "stream",
     "text": [
      "475\n",
      "1\n",
      "55\n",
      "9\n",
      "50\n"
     ]
    }
   ],
   "source": [
    "X = int(input())\n",
    "H = int(input())\n",
    "M = int(input())\n",
    "H1 = X//60+H\n",
    "M1 = X%60+M\n",
    "if M1>=60:\n",
    "    H1 += 1\n",
    "    M1 -= 60\n",
    "else:\n",
    "    pass\n",
    "print(H1)\n",
    "print(M1) "
   ]
  },
  {
   "cell_type": "code",
   "execution_count": null,
   "metadata": {},
   "outputs": [],
   "source": [
    "#Приоритеты:\n",
    "# 1. not \n",
    "# 2. and\n",
    "# 3. or"
   ]
  },
  {
   "cell_type": "code",
   "execution_count": 46,
   "metadata": {},
   "outputs": [
    {
     "name": "stdout",
     "output_type": "stream",
     "text": [
      "5\n",
      "8\n",
      "78\n",
      "Пересып\n"
     ]
    }
   ],
   "source": [
    "A = int(input())\n",
    "B = int(input())\n",
    "H = int(input())\n",
    "if A<=H<=B:\n",
    "    print('Это нормально')\n",
    "elif H>B:\n",
    "    print('Пересып')\n",
    "elif H<A:\n",
    "    print('Недосып')\n",
    "    "
   ]
  },
  {
   "cell_type": "code",
   "execution_count": 54,
   "metadata": {},
   "outputs": [
    {
     "name": "stdout",
     "output_type": "stream",
     "text": [
      "2100\n",
      "Обычный\n"
     ]
    }
   ],
   "source": [
    "A = int(input())\n",
    "if A % 4 == 0 and (A % 100 != 0 or A % 400 == 0):\n",
    "    print('Високосный')\n",
    "else: \n",
    "    print('Обычный')"
   ]
  },
  {
   "cell_type": "code",
   "execution_count": 55,
   "metadata": {},
   "outputs": [
    {
     "data": {
      "text/plain": [
       "False"
      ]
     },
     "execution_count": 55,
     "metadata": {},
     "output_type": "execute_result"
    }
   ],
   "source": [
    "\"239\" < \"30\" and 239 < 30"
   ]
  },
  {
   "cell_type": "code",
   "execution_count": 58,
   "metadata": {},
   "outputs": [
    {
     "name": "stdout",
     "output_type": "stream",
     "text": [
      "3\n",
      "4\n",
      "5\n",
      "6.0\n"
     ]
    }
   ],
   "source": [
    "a = int(input())\n",
    "b = int(input())\n",
    "c = int(input())\n",
    "p = (a+b+c)/2\n",
    "print((p*(p-a)*(p-b)*(p-c))**0.5)"
   ]
  },
  {
   "cell_type": "code",
   "execution_count": 63,
   "metadata": {},
   "outputs": [
    {
     "name": "stdout",
     "output_type": "stream",
     "text": [
      "20\n",
      "True\n"
     ]
    }
   ],
   "source": [
    "a = int(input())\n",
    "print(-15<a<=12 or 14<a<17 or a>=19)"
   ]
  },
  {
   "cell_type": "code",
   "execution_count": 67,
   "metadata": {},
   "outputs": [
    {
     "name": "stdout",
     "output_type": "stream",
     "text": [
      "5\n",
      "0\n",
      "mod\n",
      "Деление на 0!\n"
     ]
    }
   ],
   "source": [
    "a = float(input())\n",
    "b = float(input())\n",
    "c = str(input())\n",
    "if c == 'mod':\n",
    "    if b == 0:\n",
    "        print(\"Деление на 0!\")\n",
    "    else:\n",
    "        print(a%b)\n",
    "elif c == 'pow':\n",
    "    print(a**b)\n",
    "elif c == 'div':\n",
    "    if b == 0:\n",
    "        print(\"Деление на 0!\")\n",
    "    else:\n",
    "        print(a//b)\n",
    "elif c == '+':\n",
    "    print(a+b)\n",
    "elif c == '-':\n",
    "    print(a-b)\n",
    "elif c == '*':\n",
    "    print(a*b)\n",
    "elif c == '/':\n",
    "    if b == 0:\n",
    "        print(\"Деление на 0!\")\n",
    "    else:\n",
    "        print(a/b)"
   ]
  },
  {
   "cell_type": "code",
   "execution_count": 69,
   "metadata": {},
   "outputs": [
    {
     "name": "stdout",
     "output_type": "stream",
     "text": [
      "круг\n",
      "25\n",
      "1962.5\n"
     ]
    }
   ],
   "source": [
    "t = str(input())\n",
    "if t == 'треугольник':\n",
    "    a = float(input())\n",
    "    b = float(input())\n",
    "    c = float(input())\n",
    "    p = (a+b+c)/2\n",
    "    print((p*(p-a)*(p-b)*(p-c))**0.5)\n",
    "elif t == 'прямоугольник':\n",
    "    a = float(input())\n",
    "    b = float(input())\n",
    "    print(a*b)\n",
    "elif t == 'круг':\n",
    "    r = float(input())\n",
    "    print(3.14*r**2) "
   ]
  },
  {
   "cell_type": "code",
   "execution_count": 114,
   "metadata": {},
   "outputs": [
    {
     "name": "stdout",
     "output_type": "stream",
     "text": [
      "5\n",
      "6\n",
      "11\n",
      "11\n",
      "5\n",
      "6\n"
     ]
    }
   ],
   "source": [
    "a,b,c = int(input()),int(input()),int(input())\n",
    "ma,mi = max(a,b,c), min(a,b,c)\n",
    "print(ma)\n",
    "print(mi)\n",
    "print(a+b+c-ma-mi)"
   ]
  },
  {
   "cell_type": "code",
   "execution_count": 212,
   "metadata": {},
   "outputs": [
    {
     "name": "stdout",
     "output_type": "stream",
     "text": [
      "3\n",
      "3 программиста\n"
     ]
    }
   ],
   "source": [
    "n = int(input())\n",
    "if (n % 100 // 10)==1:\n",
    "    print(n,'программистов')\n",
    "elif n%10 in (0,5,6,7,8,9):\n",
    "    print(n,'программистов')\n",
    "elif n%10 == 1:\n",
    "    print(n,'программист')\n",
    "elif n%10 in (2,3,4):\n",
    "    print(n,'программиста')"
   ]
  },
  {
   "cell_type": "code",
   "execution_count": 241,
   "metadata": {},
   "outputs": [
    {
     "name": "stdout",
     "output_type": "stream",
     "text": [
      "456789\n",
      "Обычный\n"
     ]
    }
   ],
   "source": [
    "n = int(input())\n",
    "a = n % 10 \n",
    "b = (n % 100 -n % 10) /10\n",
    "c = (n % 1000 -n % 100) /100 \n",
    "d = (n % 10000 -n % 1000) /1000\n",
    "e = (n % 100000 -n % 10000) /10000 \n",
    "f = (n % 1000000 -n % 100000) /100000\n",
    "if a+b+c == d+e+f:\n",
    "    print('Счастливый')\n",
    "else:\n",
    "    print('Обычный')"
   ]
  },
  {
   "cell_type": "code",
   "execution_count": 243,
   "metadata": {},
   "outputs": [],
   "source": [
    "i = 0\n",
    "while i <= 10:\n",
    "    i = i + 1\n",
    "    if i > 7:\n",
    "        i = i + 2"
   ]
  },
  {
   "cell_type": "code",
   "execution_count": 254,
   "metadata": {},
   "outputs": [
    {
     "name": "stdout",
     "output_type": "stream",
     "text": [
      "*\n",
      "**\n",
      "*\n",
      "*\n",
      "**\n",
      "*\n",
      "***\n",
      "*\n",
      "**\n",
      "***\n"
     ]
    }
   ],
   "source": [
    "i = 0\n",
    "while i < 5:\n",
    "    print('*')\n",
    "    if i % 2 == 0:\n",
    "        print('**')\n",
    "    if i > 2:\n",
    "        print('***')\n",
    "    i = i + 1"
   ]
  },
  {
   "cell_type": "code",
   "execution_count": 300,
   "metadata": {},
   "outputs": [
    {
     "name": "stdout",
     "output_type": "stream",
     "text": [
      "150\n"
     ]
    }
   ],
   "source": [
    "a = 0\n",
    "while a <= 100:\n",
    "    a = int(input())\n",
    "    if a<10:\n",
    "        continue\n",
    "    elif 10<=a<=100:\n",
    "        print(a)"
   ]
  },
  {
   "cell_type": "code",
   "execution_count": 302,
   "metadata": {},
   "outputs": [
    {
     "name": "stdout",
     "output_type": "stream",
     "text": [
      "*****\n",
      "*****\n",
      "*****\n",
      "*****\n"
     ]
    }
   ],
   "source": [
    "for i in range(4):\n",
    "    print('*****')"
   ]
  },
  {
   "cell_type": "code",
   "execution_count": 343,
   "metadata": {},
   "outputs": [
    {
     "name": "stdout",
     "output_type": "stream",
     "text": [
      "5\n",
      "7\n",
      "1\n",
      "3\n",
      "\n",
      "\t 1\t 2\t 3\n",
      "5\t 5\t 10\t 15\n",
      "6\t 6\t 12\t 18\n",
      "7\t 7\t 14\t 21\n"
     ]
    }
   ],
   "source": [
    "a = int(input())\n",
    "b = int(input())\n",
    "c = int(input())\n",
    "d = int(input())\n",
    "\n",
    "print()\n",
    "for i in range(c,d+1):\n",
    "    print('\\t',i,end='')\n",
    "print()\n",
    "for j in range(a,b+1):\n",
    "    print(j, end='')\n",
    "    for t in range(c,d+1):\n",
    "        print('\\t',t*j,end='')\n",
    "    print()\n",
    "\n"
   ]
  },
  {
   "cell_type": "code",
   "execution_count": 345,
   "metadata": {},
   "outputs": [
    {
     "name": "stdout",
     "output_type": "stream",
     "text": [
      "-5\n",
      "12\n",
      "4.5\n"
     ]
    }
   ],
   "source": [
    "a = int(input())\n",
    "b = int(input())\n",
    "s = 0\n",
    "n = 0\n",
    "for i in range(a,b+1):\n",
    "    if i%3 == 0:\n",
    "        n += 1\n",
    "        s += i\n",
    "print(s/n)"
   ]
  },
  {
   "cell_type": "code",
   "execution_count": 350,
   "metadata": {},
   "outputs": [
    {
     "name": "stdout",
     "output_type": "stream",
     "text": [
      "acggtgttat\n",
      "40.0\n"
     ]
    }
   ],
   "source": [
    "gen = str(input())\n",
    "gen = gen.lower()\n",
    "s = 0\n",
    "for i in gen:\n",
    "    if i in ('g','c'):\n",
    "        s += 1\n",
    "print(s/len(gen)*100)"
   ]
  },
  {
   "cell_type": "markdown",
   "metadata": {},
   "source": [
    "Узнав, что ДНК не является случайной строкой, только что поступившие в Институт биоинформатики студенты группы информатиков предложили использовать алгоритм сжатия, который сжимает повторяющиеся символы в строке.\n",
    "\n",
    "Кодирование осуществляется следующим образом:\n",
    "s = 'aaaabbсaa' преобразуется в 'a4b2с1a2', то есть группы одинаковых символов исходной строки заменяются на этот символ и количество его повторений в этой позиции строки.\n",
    "\n",
    "Напишите программу, которая считывает строку, кодирует её предложенным алгоритмом и выводит закодированную последовательность на стандартный вывод. Кодирование должно учитывать регистр символов."
   ]
  },
  {
   "cell_type": "code",
   "execution_count": 528,
   "metadata": {},
   "outputs": [
    {
     "name": "stdout",
     "output_type": "stream",
     "text": [
      "aaaabbcaa\n",
      "a4b2c1a2\n"
     ]
    }
   ],
   "source": [
    "gen = str(input())\n",
    "i = 0\n",
    "c = 1\n",
    "e = ''\n",
    "while i < len(gen)-1:\n",
    "    if gen[i]==gen[i+1]:\n",
    "        c += 1\n",
    "    elif gen[i]!=gen[i+1]:\n",
    "        e += gen[i]+str(c)\n",
    "        c = 1\n",
    "    i += 1\n",
    "e += gen[i]+str(c)\n",
    "print(e)"
   ]
  },
  {
   "cell_type": "code",
   "execution_count": 529,
   "metadata": {},
   "outputs": [],
   "source": [
    "students = ['Ivan', 'Masha', 'Sasha']\n",
    "students += ['Olga']\n",
    "students += 'Olga'"
   ]
  },
  {
   "cell_type": "code",
   "execution_count": 530,
   "metadata": {},
   "outputs": [
    {
     "data": {
      "text/plain": [
       "['Ivan', 'Masha', 'Sasha', 'Olga', 'O', 'l', 'g', 'a']"
      ]
     },
     "execution_count": 530,
     "metadata": {},
     "output_type": "execute_result"
    }
   ],
   "source": [
    "students"
   ]
  },
  {
   "cell_type": "code",
   "execution_count": 541,
   "metadata": {},
   "outputs": [
    {
     "name": "stdout",
     "output_type": "stream",
     "text": [
      "2 4 5 12\n",
      "23\n"
     ]
    }
   ],
   "source": [
    "a = [int(i) for i in input().split()]\n",
    "print(sum(a))"
   ]
  },
  {
   "cell_type": "markdown",
   "metadata": {},
   "source": [
    "Напишите программу, на вход которой подаётся список чисел одной строкой. Программа должна для каждого элемента этого списка вывести сумму двух его соседей. Для элементов списка, являющихся крайними, одним из соседей считается элемент, находящий на противоположном конце этого списка. Например, если на вход подаётся список \"1 3 5 6 10\", то на выход ожидается список \"13 6 9 15 7\" (без кавычек).\n",
    "\n",
    "Если на вход пришло только одно число, надо вывести его же.\n",
    "\n",
    "Вывод должен содержать одну строку с числами нового списка, разделёнными пробелом."
   ]
  },
  {
   "cell_type": "code",
   "execution_count": 612,
   "metadata": {},
   "outputs": [
    {
     "name": "stdout",
     "output_type": "stream",
     "text": [
      "1 2 3 4 5\n",
      "7 4 6 8 5 "
     ]
    }
   ],
   "source": [
    "a = [int(i) for i in input().split()]\n",
    "e = []\n",
    "if len(a)==1:\n",
    "    e = a\n",
    "else:\n",
    "    e.append(a[1]+a[-1])\n",
    "    for i in range(1,len(a)-1):\n",
    "        e.append(a[i-1]+a[i+1])\n",
    "    e.append(a[-2]+a[0])\n",
    "for i in range(len(a)):\n",
    "    print(e[i],end=' ')"
   ]
  },
  {
   "cell_type": "code",
   "execution_count": 643,
   "metadata": {},
   "outputs": [
    {
     "name": "stdout",
     "output_type": "stream",
     "text": [
      "1 1 1 1 1 1 4 4 \n",
      "1"
     ]
    }
   ],
   "source": [
    "a = [int(i) for i in input().split()]\n",
    "a.sort()\n",
    "h = 0\n",
    "i = 0\n",
    "for j in range(len(a)-2):\n",
    "    if a[i]==a[i+1]:\n",
    "        h += 1\n",
    "        i += 1\n",
    "        \n",
    "if h>1:\n",
    "    print(a[j], end='')\n"
   ]
  },
  {
   "cell_type": "code",
   "execution_count": 659,
   "metadata": {},
   "outputs": [
    {
     "name": "stdout",
     "output_type": "stream",
     "text": [
      "1 1 2 2 3 3\n",
      "1 2 3 "
     ]
    }
   ],
   "source": [
    "a = [int(i) for i in input().split()]\n",
    "a.sort()\n",
    "b = []\n",
    "for i in range(len(a)):\n",
    "    if a.count(a[i])>1:\n",
    "        b.append(a[i])\n",
    "\n",
    "import numpy as np\n",
    "u = np.unique(b)\n",
    "for i in range(len(u)):\n",
    "    print(u[i],end=' ')\n",
    "\n",
    "        "
   ]
  },
  {
   "cell_type": "markdown",
   "metadata": {},
   "source": [
    "Напишите программу, которая считывает с консоли числа (по одному в строке) до тех пор, пока сумма введённых чисел не будет равна 0 и сразу после этого выводит сумму квадратов всех считанных чисел.\n",
    "\n",
    "Гарантируется, что в какой-то момент сумма введённых чисел окажется равной 0, после этого считывание продолжать не нужно.\n",
    "\n",
    "В примере мы считываем числа 1, -3, 5, -6, -10, 13; в этот момент замечаем, что сумма этих чисел равна нулю и выводим сумму их квадратов, не обращая внимания на то, что остались ещё не прочитанные значения."
   ]
  },
  {
   "cell_type": "code",
   "execution_count": 673,
   "metadata": {},
   "outputs": [
    {
     "name": "stdout",
     "output_type": "stream",
     "text": [
      "5\n",
      "5\n",
      "-10\n",
      "150\n"
     ]
    }
   ],
   "source": [
    "s = 0\n",
    "d = 0\n",
    "while True:\n",
    "    a = int(input())\n",
    "    s += a\n",
    "    d += a**2\n",
    "    if s == 0:\n",
    "        break\n",
    "print(d)"
   ]
  },
  {
   "cell_type": "markdown",
   "metadata": {},
   "source": [
    "Напишите программу, которая выводит часть последовательности 1 2 2 3 3 3 4 4 4 4 5 5 5 5 5 ... (число повторяется столько раз, чему равно). На вход программе передаётся неотрицательное целое число n — столько элементов последовательности должна отобразить программа. На выходе ожидается последовательность чисел, записанных через пробел в одну строку.\n",
    "\n",
    "Например, если n = 7, то программа должна вывести 1 2 2 3 3 3 4."
   ]
  },
  {
   "cell_type": "code",
   "execution_count": 942,
   "metadata": {},
   "outputs": [
    {
     "name": "stdout",
     "output_type": "stream",
     "text": [
      "50\n",
      "1 2 2 3 3 3 4 4 4 4 5 5 5 5 5 6 6 6 6 6 6 7 7 7 7 7 7 7 8 8 8 8 8 8 8 8 9 9 9 9 9 9 9 9 9 10 10 10 10 10\n"
     ]
    }
   ],
   "source": [
    "n = int(input())\n",
    "st = []\n",
    "for i in range(1,n+1):\n",
    "    st.append([i for j in range(i)])\n",
    "x = []\n",
    "for i in range(len(st)):\n",
    "    for j in range(len(st[i])):\n",
    "        x.append(int(str(st[i][j])))\n",
    "y = x[:n]\n",
    "print(*y)"
   ]
  },
  {
   "cell_type": "markdown",
   "metadata": {},
   "source": [
    "Напишите программу, которая считывает список чисел lstlst из первой строки и число xx из второй строки, которая выводит все позиции, на которых встречается число xx в переданном списке lstlst.\n",
    "\n",
    "Позиции нумеруются с нуля, если число xx не встречается в списке, вывести строку \"Отсутствует\" (без кавычек, с большой буквы).\n",
    "\n",
    "Позиции должны быть выведены в одну строку, по возрастанию абсолютного значения."
   ]
  },
  {
   "cell_type": "code",
   "execution_count": 966,
   "metadata": {},
   "outputs": [
    {
     "name": "stdout",
     "output_type": "stream",
     "text": [
      "5 8 2 7 8 8 2 4\n",
      "8\n",
      "1 4 5\n"
     ]
    }
   ],
   "source": [
    "a = [int(i) for i in input().split()]\n",
    "b =  int(input())\n",
    "j = []\n",
    "for i in range(len(a)):\n",
    "    if a[i] == b:\n",
    "        j.append(i)\n",
    "if j ==[]:\n",
    "    print('Отсутствует')\n",
    "    \n",
    "print(*j)\n",
    "    "
   ]
  },
  {
   "cell_type": "markdown",
   "metadata": {},
   "source": [
    "Напишите программу, на вход которой подаётся прямоугольная матрица в виде последовательности строк, заканчивающихся строкой, содержащей только строку \"end\" (без кавычек)\n",
    "\n",
    "Программа должна вывести матрицу того же размера, у которой каждый элемент в позиции i, j равен сумме элементов первой матрицы на позициях (i-1, j), (i+1, j), (i, j-1), (i, j+1). У крайних символов соседний элемент находится с противоположной стороны матрицы.\n",
    "\n",
    "В случае одной строки/столбца элемент сам себе является соседом по соответствующему направлению."
   ]
  },
  {
   "cell_type": "code",
   "execution_count": 1132,
   "metadata": {},
   "outputs": [
    {
     "name": "stdout",
     "output_type": "stream",
     "text": [
      "9 5 3\n",
      "0 7 -1\n",
      "-5 2 9\n",
      "end\n",
      "3 21 22\n",
      "10 6 19\n",
      "20 16 -1\n"
     ]
    }
   ],
   "source": [
    "s = []\n",
    "d = []\n",
    "while True:\n",
    "    a = input()\n",
    "    if a == 'end':\n",
    "        break\n",
    "    else:\n",
    "        a = [int(i) for i in a.split()]\n",
    "        s.append(a)\n",
    "d = []\n",
    "for i in range(len(s)):\n",
    "    for j in range(len(s[0])):\n",
    "        if j == len(s[0])-1:\n",
    "            if i == len(s)-1:\n",
    "                d.append(s[i-1][j]+s[i][j-1]+s[i][0]+s[0][j])\n",
    "            else:\n",
    "                d.append(s[i-1][j]+s[i][j-1]+s[i][0]+s[i+1][j])\n",
    "        elif i == len(s)-1:\n",
    "            d.append(s[i-1][j]+s[i][j-1]+s[i][j+1]+s[0][j])\n",
    "        else:\n",
    "            d.append(s[i-1][j]+s[i][j-1]+s[i][j+1]+s[i+1][j])\n",
    "y = 0\n",
    "i = 0\n",
    "j = 0\n",
    "while y<len(s):\n",
    "    print(*d[i:int(j+len(s[0]))])\n",
    "    i += len(s[0])\n",
    "    j += len(s[0])\n",
    "    y += 1\n"
   ]
  },
  {
   "cell_type": "markdown",
   "metadata": {},
   "source": [
    "Дополнительная\n",
    "Выведите таблицу размером n \\times nn×n, заполненную числами от 11 до n^2n \n",
    "2\n",
    "  по спирали, выходящей из левого верхнего угла и закрученной по часовой стрелке, как показано в примере (здесь n=5n=5):"
   ]
  },
  {
   "cell_type": "code",
   "execution_count": 1340,
   "metadata": {},
   "outputs": [
    {
     "name": "stdout",
     "output_type": "stream",
     "text": [
      "5\n",
      "1   2   3   4   5   \n",
      "16 17  18  19  \n",
      "15 23  24  \n",
      "14 \n",
      "13 \n"
     ]
    }
   ],
   "source": [
    "n = int(input())\n",
    "a = []\n",
    "j = -1\n",
    "for i in range(1,n+1):\n",
    "    print(i,end='   ')\n",
    "print()\n",
    "for i in range(n+n-1+n-1,n+n-1+n-1+n-1):\n",
    "    a.append(i)\n",
    "for i in range(n-1):\n",
    "    print(a[j],end=' ')\n",
    "    if j == -2:\n",
    "        for i in range(0,n-3):\n",
    "            print(n+2*(n-1)+2*(n-2)+2*(n-3)+i,end='  ')\n",
    "    for i in range(a[n-2]+1,a[n-2]+n-1):\n",
    "        if j<-1:\n",
    "            break\n",
    "        print(i, end='  ')\n",
    "    print()\n",
    "    j -= 1\n",
    "\n",
    "        \n",
    "\n",
    "    \n"
   ]
  },
  {
   "cell_type": "code",
   "execution_count": 1350,
   "metadata": {},
   "outputs": [
    {
     "name": "stdout",
     "output_type": "stream",
     "text": [
      "5\n",
      "1   2   3   4   5   \n",
      "16 17  18  19  \n",
      "15 24  25  \n",
      "14 23  \n",
      "13 \n"
     ]
    }
   ],
   "source": [
    "n = int(input())\n",
    "a = []\n",
    "j = -1\n",
    "for i in range(1,n+1):\n",
    "    print(i,end='   ')\n",
    "print()\n",
    "for i in range(n+n-1+n-1,n+n-1+n-1+n-1):\n",
    "    a.append(i)\n",
    "for i in range(n-1):\n",
    "    print(a[j],end=' ')\n",
    "    if j == -2:\n",
    "        for i in range(0,n-3):\n",
    "            print(n+2*(n-1)+2*(n-2)+2*(n-3)+1+i,end='  ')\n",
    "    if j == -3:\n",
    "        for i in range(0,n-4):\n",
    "            print(n+2*(n-1)+2*(n-2)+2*(n-3)+i,end='  ')\n",
    "    for i in range(a[n-2]+1,a[n-2]+n-1):\n",
    "        if j<-1:\n",
    "            break\n",
    "        print(i, end='  ')\n",
    "    print()\n",
    "    j -= 1\n",
    "\n",
    "        \n"
   ]
  },
  {
   "cell_type": "code",
   "execution_count": 1485,
   "metadata": {},
   "outputs": [
    {
     "name": "stdout",
     "output_type": "stream",
     "text": [
      "5\n"
     ]
    },
    {
     "data": {
      "text/plain": [
       "[[1, 2, 3, 4, 5],\n",
       " [16, 17, 18, 19, 6],\n",
       " [15, 24, 0, 0, 7],\n",
       " [14, 23, 0, 0, 8],\n",
       " [13, 12, 11, 10, 9]]"
      ]
     },
     "execution_count": 1485,
     "metadata": {},
     "output_type": "execute_result"
    }
   ],
   "source": [
    "n = int(input())\n",
    "m = [[0 for i in range(n)] for i in range(n)]\n",
    "m[0] = [i for i in range(1,n+1)]\n",
    "for i in range(1,n):\n",
    "    m[-i][0] = i+n+n-1+n-2\n",
    "for i in range(1,n-1):\n",
    "    m[1][i] = m[1][0]+i\n",
    "m[1][n-1] = n+1\n",
    "for i in range(1,n-2):\n",
    "    m[-i-1][1] = m[1][n-2]+n-3+n-4+i\n",
    "m[-1][1] = m[-1][0]-1\n",
    "for i in range(2,n):\n",
    "    m[i][-1] = m[0][n-1]+i\n",
    "for i in range(1,n-1):\n",
    "    m[-1][-i] = m[-1][-1]+i-1\n",
    "m"
   ]
  },
  {
   "cell_type": "code",
   "execution_count": 1473,
   "metadata": {},
   "outputs": [
    {
     "data": {
      "text/plain": [
       "5"
      ]
     },
     "execution_count": 1473,
     "metadata": {},
     "output_type": "execute_result"
    }
   ],
   "source": [
    "m[0][n-1]"
   ]
  },
  {
   "cell_type": "markdown",
   "metadata": {},
   "source": [
    "Функции"
   ]
  },
  {
   "cell_type": "code",
   "execution_count": 1354,
   "metadata": {},
   "outputs": [],
   "source": [
    "def f(x):\n",
    "    if x<=-2:\n",
    "        return print(1-(x+2)**2)\n",
    "    elif -2<x<=2:\n",
    "        return print(-x/2)\n",
    "    elif 2<x:\n",
    "        return print(((x-2)**2)+1)"
   ]
  },
  {
   "cell_type": "markdown",
   "metadata": {},
   "source": [
    "Напишите функцию modify_list(l), которая принимает на вход список целых чисел, удаляет из него все нечётные значения, а чётные нацело делит на два. Функция не должна ничего возвращать, требуется только изменение переданного списка"
   ]
  },
  {
   "cell_type": "code",
   "execution_count": 1398,
   "metadata": {},
   "outputs": [],
   "source": [
    "def modify_list(lst):\n",
    "    s = []\n",
    "    for i in lst:\n",
    "        if i%2 == 0:\n",
    "            s.append(int(i/2))\n",
    "    lst[::] = s"
   ]
  },
  {
   "cell_type": "markdown",
   "metadata": {},
   "source": [
    "Напишите функцию update_dictionary(d, key, value), которая принимает на вход словарь dd и два числа: keykey и valuevalue.\n",
    "\n",
    "Если ключ keykey есть в словаре dd, то добавьте значение valuevalue в список, который хранится по этому ключу.\n",
    "Если ключа keykey нет в словаре, то нужно добавить значение в список по ключу 2 * key2∗key. Если и ключа 2 * key2∗key нет, то нужно добавить ключ 2 * key2∗key в словарь и сопоставить ему список из переданного элемента [value][value].\n",
    "\n",
    "Требуется реализовать только эту функцию, кода вне неё не должно быть.\n",
    "Функция не должна вызывать внутри себя функции input и print."
   ]
  },
  {
   "cell_type": "code",
   "execution_count": 1556,
   "metadata": {},
   "outputs": [],
   "source": [
    "def update_dictionary(d, key, value):\n",
    "    j = 0\n",
    "    for i in d.keys():\n",
    "        if key == i:\n",
    "            d[i].append(value)\n",
    "            j += 1\n",
    "    if j == 0:\n",
    "        for i in d.keys():\n",
    "            if 2*key == i:\n",
    "                d[i].append(value)\n",
    "                j += 1\n",
    "    if j == 0:\n",
    "        d[2*key] = [value]\n",
    "\n",
    "    "
   ]
  },
  {
   "cell_type": "code",
   "execution_count": 1557,
   "metadata": {},
   "outputs": [
    {
     "name": "stdout",
     "output_type": "stream",
     "text": [
      "None\n",
      "{2: [-1]}\n",
      "{2: [-1, -2]}\n",
      "{2: [-1, -2, -3]}\n"
     ]
    }
   ],
   "source": [
    "d = {}\n",
    "print(update_dictionary(d, 1, -1))  # None\n",
    "print(d)                            # {2: [-1]}\n",
    "update_dictionary(d, 2, -2)\n",
    "print(d)                            # {2: [-1, -2]}\n",
    "update_dictionary(d, 1, -3)\n",
    "print(d)                            # {2: [-1, -2, -3]}"
   ]
  },
  {
   "cell_type": "markdown",
   "metadata": {},
   "source": [
    "Помогите Антону написать упрощённую версию такой программы, которая сможет подсчитать слова, разделённые пробелом и вывести получившуюся статистику.\n",
    "\n",
    "Программа должна считывать одну строку со стандартного ввода и выводить для каждого уникального слова в этой строке число его повторений (без учёта регистра) в формате \"слово количество\" (см. пример вывода).\n",
    "Порядок вывода слов может быть произвольным, каждое уникальное слово﻿ должно выводиться только один раз."
   ]
  },
  {
   "cell_type": "code",
   "execution_count": 1572,
   "metadata": {},
   "outputs": [
    {
     "name": "stdout",
     "output_type": "stream",
     "text": [
      "JHKJjkj TTT ttt hn;khl\n",
      "hn;khl 1\n",
      "jhkjjkj 1\n",
      "ttt 2\n"
     ]
    }
   ],
   "source": [
    "s = 0\n",
    "d = {}\n",
    "a = [str(i).lower() for i in input().split()]\n",
    "for i in set(a):\n",
    "    for j in a:\n",
    "        if i == j:\n",
    "            s += 1\n",
    "    d[i] = s\n",
    "    s = 0\n",
    "for i in d.items():\n",
    "    print(*i)\n",
    "    "
   ]
  },
  {
   "cell_type": "markdown",
   "metadata": {},
   "source": [
    "Напишите программу, которая считывает строку с числом nn, которое задаёт количество чисел, которые нужно считать. Далее считывает nn строк с числами x_ix \n",
    "i\n",
    "​\t\n",
    " , по одному числу в каждой строке. Итого будет n+1n+1 строк.\n",
    "\n",
    "При считывании числа x_ix \n",
    "i\n",
    "​\t\n",
    "  программа должна на отдельной строке вывести значение f(x_i)f(x \n",
    "i\n",
    "​\t\n",
    " ). Функция f(x) уже реализована и доступна для вызова. \n",
    "\n",
    "Функция вычисляется достаточно долго и зависит только от переданного аргумента xx. Для того, чтобы уложиться в ограничение по времени, нужно избежать повторного вычисления значений.\n"
   ]
  },
  {
   "cell_type": "code",
   "execution_count": 1603,
   "metadata": {},
   "outputs": [
    {
     "name": "stdout",
     "output_type": "stream",
     "text": [
      "5\n",
      "7\n",
      "8\n",
      "9\n",
      "5\n",
      "3\n",
      "26\n",
      "None\n",
      "37\n",
      "None\n",
      "50\n",
      "None\n",
      "10\n",
      "None\n",
      "2\n",
      "None\n"
     ]
    }
   ],
   "source": [
    "s = []\n",
    "d = {}\n",
    "a = int(input())\n",
    "for i in range(a):\n",
    "    s.append(int(input()))\n",
    "for i in s:\n",
    "    if i not in d.keys():\n",
    "        d[i] = f(i)\n",
    "        print(d[i])\n",
    "    else:\n",
    "        print(d[i])"
   ]
  },
  {
   "cell_type": "code",
   "execution_count": 1604,
   "metadata": {},
   "outputs": [
    {
     "data": {
      "text/plain": [
       "{7: None, 8: None, 9: None, 5: None, 3: None}"
      ]
     },
     "execution_count": 1604,
     "metadata": {},
     "output_type": "execute_result"
    }
   ],
   "source": [
    "d"
   ]
  },
  {
   "cell_type": "code",
   "execution_count": 1597,
   "metadata": {},
   "outputs": [
    {
     "name": "stdout",
     "output_type": "stream",
     "text": [
      "7\n",
      "8\n",
      "9\n",
      "7\n",
      "8\n"
     ]
    }
   ],
   "source": [
    "for i in s:\n",
    "    print(i)"
   ]
  },
  {
   "cell_type": "markdown",
   "metadata": {},
   "source": [
    "На прошлой неделе мы сжимали строки, используя кодирование повторов. Теперь нашей задачей будет восстановление исходной строки обратно.\n",
    "\n",
    "Напишите программу, которая считывает из файла строку, соответствующую тексту, сжатому с помощью кодирования повторов, и производит обратную операцию, получая исходный текст.\n",
    "\n",
    "Запишите полученный текст в файл и прикрепите его, как ответ на это задание.\n",
    "\n",
    "В исходном тексте не встречаются цифры, так что код однозначно интерпретируем.\n",
    "\n",
    "Примечание. Это первое задание типа Dataset Quiz. В таких заданиях после нажатия \"Start Quiz\" у вас появляется ссылка \"download your dataset\". Используйте эту ссылку для того, чтобы загрузить файл со входными данными к себе на компьютер. Запустите вашу программу, используя этот файл в качестве входных данных. Выходной файл, который при этом у вас получится, надо отправить в качестве ответа на эту задачу."
   ]
  },
  {
   "cell_type": "code",
   "execution_count": 90,
   "metadata": {
    "scrolled": false
   },
   "outputs": [
    {
     "name": "stdout",
     "output_type": "stream",
     "text": [
      "i2d8N17n3K18d5p14K18S17R13F19x19z8E18Z12O12t15R1P11e5o15s16W14f12e11O5K8k20B5u9\n"
     ]
    }
   ],
   "source": [
    "with open('C:/Users/Наталья/Desktop/jupyter_scripts/dataset_3363_2 (3).txt','r') as ds:\n",
    "    for line in ds:\n",
    "        line = line.strip()\n",
    "        print(line)\n",
    "    "
   ]
  },
  {
   "cell_type": "code",
   "execution_count": 91,
   "metadata": {},
   "outputs": [
    {
     "name": "stdout",
     "output_type": "stream",
     "text": [
      "iiddddddddNNNNNNNNNNNNNNNNNnnnKKKKKKKKKKKKKKKKKKdddddppppppppppppppKKKKKKKKKKKKKKKKKKSSSSSSSSSSSSSSSSSRRRRRRRRRRRRRFFFFFFFFFFFFFFFFFFFxxxxxxxxxxxxxxxxxxxzzzzzzzzEEEEEEEEEEEEEEEEEEZZZZZZZZZZZZOOOOOOOOOOOOtttttttttttttttRPPPPPPPPPPPeeeeeooooooooooooooossssssssssssssssWWWWWWWWWWWWWWffffffffffffeeeeeeeeeeeOOOOOKKKKKKKKkkkkkkkkkkkkkkkkkkkkBBBBBuuuuuuuuu"
     ]
    }
   ],
   "source": [
    "for i in range(len(line)):\n",
    "    if line[i].isalpha():\n",
    "        pass\n",
    "    if line[i] == line[-1]:\n",
    "        if line[i-1].isalpha():\n",
    "            for m in range(int(line[i])):\n",
    "                print(line[i-1],end='')\n",
    "    elif line[i].isdigit():\n",
    "        if line[i+1].isdigit():\n",
    "            if line[i-1].isalpha():\n",
    "                for j in range(int(line[i:i+2])):\n",
    "                    print(line[i-1],end='')\n",
    "        else:\n",
    "            if line[i-1].isalpha():\n",
    "                for j in range(int(line[i])):\n",
    "                    print(line[i-1],end='')"
   ]
  },
  {
   "cell_type": "markdown",
   "metadata": {},
   "source": [
    "Недавно мы считали для каждого слова количество его вхождений в строку. Но на все слова может быть не так интересно смотреть, как, например, на наиболее часто используемые.\n",
    "\n",
    "Напишите программу, которая считывает текст из файла (в файле может быть больше одной строки) и выводит самое частое слово в этом тексте и через пробел то, сколько раз оно встретилось. Если таких слов несколько, вывести лексикографически первое (можно использовать оператор < для строк).\n",
    "\n",
    "В качестве ответа укажите вывод программы, а не саму программу.\n",
    "\n",
    "Слова, написанные в разных регистрах, считаются одинаковыми."
   ]
  },
  {
   "cell_type": "code",
   "execution_count": 124,
   "metadata": {},
   "outputs": [
    {
     "name": "stdout",
     "output_type": "stream",
     "text": [
      "['cyc cyc x x tcpzbbt ydz ypappzu zcxuydz tcpzbbt u cyc tcpzbbt yctpyzud utzd xdptpy tcpzbbt pad cyc cyc cb x pad cyc yyxapcd uxx ucy x bzdzcx dtz xcadppbyd zzbccxbb ydz tcpzbbt bz ayapuaay tuttazy p yabddcypd x xptzbdb bpbbxxpbx tcpzbbt xuyau uyyz pad duuytyyby zcxuydz dtytbyuux', 'dxabcp uxxzuzyyu ubcpapuad xzacdx pz pz cbz dpp ubcpapuad dpp uad cubpzzyzy cyxuy tbadxuu xc dacuzda zaxuzb tbadxuu cubpzzyzy', 'yy xdt b capz yy ayuucbpb apzyc xdt yddaxc apzyc yddaxc b xdt xdt b atdtaz apzyc yddaxc xdt cbtuzcp xdt u ab tdpapudca apzyc u yddaxc xzx u ayatp uxaxxa cbtuzcp a zdcdzxx bat t cbtuzcp xdt accytcaxz accytcaxz bpzzz zu', 'aaadx aaadx aaadx aaadx t xyxazacz t xyxazacz aaadx xyxazacz aaadx zbxxxxzaa aaadx aaadx zycddudc bp ypzczxd du bda zpaab zzypppdxp ybuy xyxazacz dttzx yyb ypzczxd tucaxydz duatbb duzcyu cctyaa zcz uxxcdaxt dzuuux buyaxyuza azubttx ydzttu zxcczzuz x ydubxt ypzuyzud du ydubxt tupy ydubxt cpdppacdz d yacupua cdcuu xbyaayud dca yyu x', 'bzx cdzuupc tz cdzuupc cdzuupc bxyzbyb cdzuupc ypu yzb ax xppcaaby ax yzb t ppdta ztpybdcd cy pp ax ptzx ax cy zt cac dctddxxd ax tat ax putut zt cy yattdpd ptzx yzb pa tat dctddxxd uubpp xxpdtdcy dcy xpttcxau tz', 'xpdc cczyxpyua xcc u ybau tzacdd pbzpcu pctaapaz cczyxpyua cczyxpyua u c zap pp ybyp d zp u pyztbt tdpzyxazb ytbyytxc yabxptcax caxcuyz tdpzyxazb zddcy ybyp xzuuy dzduuzdct u a', 'adyab adyab uupd aybu ctxttadxp txdycxtd uubapcbuc adyab c uzpxac uxdztcdb daxyp u zcuxbadt xz dp uyxytt buxzuucpa txdycxtd btcpy uzdact txzzta zcuxbadt uppyx txxcapydb t ucxzypcb adyab du auttdpudp zbbdpzz', 'uzcdtdy uzcdtdy p zapxxytt ztta xppptuuub dbxyxxd dbxyxxd d dbx ztta uddxczctd abtdtbc zd xbtzy uzcdtdy t p zd pzx zxdu yupb ad bd xxytxdzzp ztta axtctytd ztta xpzcbt', 'tpcuad yaupczzx uautzauxb tt uautzauxb tpcuad pdcuzpbt ypypzbuup pt zdtxy pdcuzpbt czaydtpbb tz uautzauxb zubd axtdc tt tdzpdyxut tdzpdyxut auyxdxcc bpyuu dtzbpa py pdcuzpbt ay uautzauxb xc x pt abcbbaaz axadup t a tt x ydxdday uautzauxb tdzpdyxut bydcpx cxazdyx tdzpdyxut bydcpx yuzyxu', 'btpc adtp btpc btpc xtpbppb pucy btpc zyap t btpc dbccbt t adtp bd pcuducxdc t pucy yt zycyytbad ypbaudxd pcuducxdc budpa pcuducxdc t ttt bcuzx dacycy ttt t dbzpu ttt badxyz b y bd ptxz z yt yxztdpdp yydtycp ya bb tcbdtxdca dypczd uupcupx cudap cyzbzxd actpuccp', 'cy cy bddpp cy uzzpyadza cy yxt bbbdpbc uzzpyadza aucxbcz bxadddttz cy yapuztuux ybbtuta pb ppcaacxd bacudcx ztdyzyzxu xt pxxbyau x p pb pxxbyau uxyzzyxc tzxcbu', 'tu czbycxp czbycxp padyz taaxy uddptd padyz cudzddccb byzat tayzccpd dbab udtuzzz dzxaaypzz byzat c tayzccpd dbab py xbtddc pdtduc at pdtduc ubtuddud ztcu udtuzzz padyz ubtuddud daaypddyu padyz zxycy bycyazayp yauac dxxzydd zybyxuuya b yauac zxycy cb dpzpyz ubtuddud aa puutdu dxxzydd uazbcbp appaztztd', 'cpbxdxxt cpbxdxxt cpbxdxxt cpbxdxxt ubatxtyd xxdzxpby dz aauzbyybd cpbxdxxt ypzy puucd ztduzz cpbxdxxt adduxpdpa dz', 'aubca tzy bpczuxcbc uauxuyxp bpczuxcbc xtcuud tzy bpczuxcbc pzdzzz bpczuxcbc pzdzzz xu xztatcpbu z dzbubyaxt xxcda pptdtucb pzdzzz a atczczy txbzpy yca pzdzzz cdcutx zxpztatbc xzdtc caatu uxppdt zbxu dz yzd pzdzzz pzdzzz uayubdt xtxzxpbb d bytct', 'yxab paupztc b yxab adbt paupztc xbpuaz u uttpua acata axpdxzccx b yxab a yapyubddt pptbb bubb acata bubb b dcacx yxc tzxdayt dx pytptb auc yxab paupztc tzxdayt a pd bddac tzacx ybcy btdpdbc xd yxab pcdz ccct pucdt ay dcacx zypz zyy zxdxyzt zxupabap ccct']\n"
     ]
    }
   ],
   "source": [
    "lines = []\n",
    "with open('C:/Users/Наталья/Downloads/dataset_3363_3 (1).txt','r') as ds:\n",
    "    for line in ds:\n",
    "        line = line.strip().lower()\n",
    "        lines.append(line)\n",
    "print(lines)"
   ]
  },
  {
   "cell_type": "code",
   "execution_count": 125,
   "metadata": {},
   "outputs": [],
   "source": [
    "lines_list = str(lines).split()"
   ]
  },
  {
   "cell_type": "code",
   "execution_count": 126,
   "metadata": {},
   "outputs": [],
   "source": [
    "lines_list[0]='cyc'"
   ]
  },
  {
   "cell_type": "code",
   "execution_count": 127,
   "metadata": {},
   "outputs": [],
   "source": [
    "lines_list[-1] = 'ccct'"
   ]
  },
  {
   "cell_type": "code",
   "execution_count": 128,
   "metadata": {},
   "outputs": [],
   "source": [
    "set_ll = set(lines_list)"
   ]
  },
  {
   "cell_type": "code",
   "execution_count": 129,
   "metadata": {},
   "outputs": [],
   "source": [
    "k = 0\n",
    "ks = []\n",
    "count_words = []\n",
    "for i in lines_list:\n",
    "    for j in set_ll:\n",
    "        k = lines_list.count(j)\n",
    "        count_words.append(j)\n",
    "        count_words.append(k)\n",
    "        ks.append(k)"
   ]
  },
  {
   "cell_type": "code",
   "execution_count": 130,
   "metadata": {},
   "outputs": [
    {
     "name": "stdout",
     "output_type": "stream",
     "text": [
      "t 12\n"
     ]
    }
   ],
   "source": [
    "print(count_words[count_words.index(max(ks))-1],max(ks))"
   ]
  },
  {
   "cell_type": "markdown",
   "metadata": {},
   "source": [
    "Имеется файл с данными по успеваемости абитуриентов. Он представляет из себя набор строк, где в каждой строке записана следующая информация:\n",
    "\n",
    "Фамилия;Оценка_по_математике;Оценка_по_физике;Оценка_по_русскому_языку\n",
    "\n",
    "Поля внутри строки разделены точкой с запятой, оценки — целые числа.\n",
    "\n",
    "Напишите программу, которая считывает файл с подобной структурой и для каждого абитуриента выводит его среднюю оценку по этим трём предметам на отдельной строке, соответствующей этому абитуриенту.\n",
    "\n",
    "Также в конце файла, на отдельной строке, через пробел запишите средние баллы по математике, физике и русскому языку по всем абитуриентам.\n",
    "\n",
    "В качестве ответа на задание прикрепите полученный файл со средними оценками.\n",
    "\n",
    "Примечание. Для разбиения строки на части по символу ';' можно использовать метод split следующим образом:"
   ]
  },
  {
   "cell_type": "code",
   "execution_count": null,
   "metadata": {},
   "outputs": [],
   "source": [
    "lines = []\n",
    "with open('C:/Users/Наталья/Downloads/dataset_3363_4 (4).txt','r') as ds:\n",
    "    for line in ds:\n",
    "        line = line.strip()\n",
    "        lines.append(line)\n",
    "means = []\n",
    "for i in lines:\n",
    "    s = 0\n",
    "    sch = 0\n",
    "    for j in i.split(';')[1:4]:\n",
    "        s += int(j)\n",
    "        sch += 1\n",
    "        if sch == 3:\n",
    "            mean = s/3\n",
    "            mean = round(mean,9)\n",
    "            means.append(mean)\n",
    "            sch = 0\n",
    "mat,ph,rus = 0,0,0\n",
    "for i in range(len(lines)):\n",
    "    mat += int(lines[i].split(';')[1:4][0])\n",
    "    ph += int(lines[i].split(';')[1:4][1])\n",
    "    rus += int(lines[i].split(';')[1:4][2])\n",
    "with open('C:/Users/Наталья/Downloads/myfile.txt','w') as myfile:\n",
    "        for i in means:\n",
    "            myfile.write(str(i))\n",
    "            myfile.write('\\n')\n",
    "        myfile.write(str(round(mat/len(lines),9)))\n",
    "        myfile.write(' ')\n",
    "        myfile.write(str(round(ph/len(lines),9)))\n",
    "        myfile.write(' ')\n",
    "        myfile.write(str(round(rus/len(lines),9)))"
   ]
  },
  {
   "cell_type": "code",
   "execution_count": null,
   "metadata": {},
   "outputs": [],
   "source": []
  },
  {
   "cell_type": "markdown",
   "metadata": {},
   "source": [
    "Напишите программу, которая подключает модуль math и, используя значение числа \\piπ из этого модуля, находит для переданного ей на стандартный ввод радиуса круга периметр этого круга и выводит его на стандартный вывод."
   ]
  },
  {
   "cell_type": "code",
   "execution_count": 189,
   "metadata": {},
   "outputs": [],
   "source": [
    "import math"
   ]
  },
  {
   "cell_type": "code",
   "execution_count": 196,
   "metadata": {},
   "outputs": [
    {
     "name": "stdout",
     "output_type": "stream",
     "text": [
      "5\n",
      "31.41592653589793\n"
     ]
    }
   ],
   "source": [
    "r = float(input())\n",
    "print(float(2.0*math.pi*r))"
   ]
  },
  {
   "cell_type": "code",
   "execution_count": null,
   "metadata": {},
   "outputs": [],
   "source": []
  },
  {
   "cell_type": "markdown",
   "metadata": {},
   "source": [
    "Печать аргументов, поданных в командную строку"
   ]
  },
  {
   "cell_type": "code",
   "execution_count": 199,
   "metadata": {},
   "outputs": [],
   "source": [
    "import sys"
   ]
  },
  {
   "cell_type": "code",
   "execution_count": 201,
   "metadata": {},
   "outputs": [
    {
     "name": "stdout",
     "output_type": "stream",
     "text": [
      "['C:\\\\Anaconda\\\\lib\\\\site-packages\\\\ipykernel_launcher.py', '-f', 'C:\\\\Users\\\\Наталья\\\\AppData\\\\Roaming\\\\jupyter\\\\runtime\\\\kernel-50e9c413-06be-4e00-8712-90fe97bcb21d.json']\n"
     ]
    }
   ],
   "source": [
    "print(sys.argv)"
   ]
  },
  {
   "cell_type": "code",
   "execution_count": null,
   "metadata": {},
   "outputs": [],
   "source": []
  },
  {
   "cell_type": "markdown",
   "metadata": {},
   "source": [
    "Скачайте файл. В нём указан адрес другого файла, который нужно скачать с использованием модуля requests и посчитать число строк в нём.\n",
    "\n",
    "Используйте функцию get для получения файла (имеет смысл вызвать метод strip к передаваемому параметру, чтобы убрать пробельные символы по краям).\n",
    "\n",
    "После получения файла вы можете проверить результат, обратившись к полю text. Если результат работы скрипта не принимается, проверьте поле url на правильность. Для подсчёта количества строк разбейте текст с помощью метода splitlines.\n",
    "\n",
    "В поле ответа введите одно число или отправьте файл, содержащий одно число."
   ]
  },
  {
   "cell_type": "code",
   "execution_count": 202,
   "metadata": {},
   "outputs": [],
   "source": [
    "import requests"
   ]
  },
  {
   "cell_type": "code",
   "execution_count": 229,
   "metadata": {},
   "outputs": [
    {
     "name": "stdout",
     "output_type": "stream",
     "text": [
      "https://stepic.org/media/attachments/course67/3.6.2/383.txt\n"
     ]
    }
   ],
   "source": [
    "with open('C:/Users/Наталья/Desktop/jupyter_scripts/dataset_3378_2 (1).txt','r') as ds:\n",
    "    for line in ds:\n",
    "        line = line.strip()\n",
    "        print(line)"
   ]
  },
  {
   "cell_type": "code",
   "execution_count": 226,
   "metadata": {},
   "outputs": [
    {
     "data": {
      "text/plain": [
       "236"
      ]
     },
     "execution_count": 226,
     "metadata": {},
     "output_type": "execute_result"
    }
   ],
   "source": [
    "len(requests.get(line).text.splitlines())"
   ]
  },
  {
   "cell_type": "code",
   "execution_count": 227,
   "metadata": {},
   "outputs": [
    {
     "data": {
      "text/plain": [
       "236"
      ]
     },
     "execution_count": 227,
     "metadata": {},
     "output_type": "execute_result"
    }
   ],
   "source": [
    "requests.get(line).text.count('\\n')"
   ]
  },
  {
   "cell_type": "code",
   "execution_count": null,
   "metadata": {},
   "outputs": [],
   "source": []
  },
  {
   "cell_type": "markdown",
   "metadata": {},
   "source": [
    "Имеется набор файлов, каждый из которых, кроме последнего, содержит имя следующего файла.\n",
    "Первое слово в тексте последнего файла: \"We\".\n",
    "\n",
    "Скачайте предложенный файл. В нём содержится ссылка на первый файл из этого набора.\n",
    "\n",
    "Все файлы располагаются в каталоге по адресу:\n",
    "https://stepic.org/media/attachments/course67/3.6.3/\n",
    "\n",
    "Загрузите содержимое ﻿последнего файла из набора, как ответ на это задание."
   ]
  },
  {
   "cell_type": "code",
   "execution_count": 257,
   "metadata": {},
   "outputs": [
    {
     "name": "stdout",
     "output_type": "stream",
     "text": [
      "https://stepic.org/media/attachments/course67/3.6.3/699991.txt\n"
     ]
    }
   ],
   "source": [
    "with open('C:/Users/Наталья/Downloads/dataset_3378_3 (1).txt','r') as ds:\n",
    "    for line in ds:\n",
    "        line = line.strip()\n",
    "        print(line)"
   ]
  },
  {
   "cell_type": "code",
   "execution_count": 258,
   "metadata": {},
   "outputs": [
    {
     "name": "stdout",
     "output_type": "stream",
     "text": [
      "We are the champions, my friends,\n",
      "And we'll keep on fighting 'til the end.\n",
      "We are the champions.\n",
      "We are the champions.\n",
      "No time for losers\n",
      "'Cause we are the champions of the world.\n"
     ]
    }
   ],
   "source": [
    "i = line[:52]+requests.get(line).text\n",
    "while requests.get(i).text[0:2] != 'We':\n",
    "    i = line[:52]+requests.get(line).text\n",
    "    line = line[:52]+requests.get(line).text\n",
    "if requests.get(i).text[0:2] == 'We':\n",
    "    print(requests.get(i).text)"
   ]
  },
  {
   "cell_type": "code",
   "execution_count": null,
   "metadata": {},
   "outputs": [],
   "source": []
  },
  {
   "cell_type": "markdown",
   "metadata": {},
   "source": [
    "Напишите программу, которая принимает на стандартный вход список игр футбольных команд с результатом матча и выводит на стандартный вывод сводную таблицу результатов всех матчей.\n",
    "\n",
    "За победу команде начисляется 3 очка, за поражение — 0, за ничью — 1.\n",
    "\n",
    "Формат ввода следующий:\n",
    "В первой строке указано целое число nn — количество завершенных игр.\n",
    "После этого идет nn строк, в которых записаны результаты игры в следующем формате:\n",
    "Первая_команда;Забито_первой_командой;Вторая_команда;Забито_второй_командой\n",
    "\n",
    "Вывод программы необходимо оформить следующим образом:\n",
    "Команда:Всего_игр Побед Ничьих Поражений Всего_очков\n",
    "\n",
    "Конкретный пример ввода-вывода приведён ниже.\n",
    "\n",
    "Порядок вывода команд произвольный."
   ]
  },
  {
   "cell_type": "code",
   "execution_count": 114,
   "metadata": {},
   "outputs": [
    {
     "name": "stdout",
     "output_type": "stream",
     "text": [
      "3\n",
      "Спартак;9;Зенит;10\n",
      "Локомотив;12;Зенит;3\n",
      "Спартак;8;Локомотив;15\n",
      "Спартак: 2 0 0 2 0\n",
      "Зенит: 2 1 0 1 3\n",
      "Локомотив: 2 2 0 0 6\n"
     ]
    }
   ],
   "source": [
    "a = []\n",
    "dic = {}\n",
    "n = int(input())\n",
    "for i in range(n):\n",
    "    a.append(input().split(';'))\n",
    "    dic[a[i][0]] = [0]\n",
    "    dic[a[i][2]] = [0]\n",
    "# Число игр\n",
    "for i in range(len(a)):\n",
    "    for j in a[i]:\n",
    "        if j in dic.keys():\n",
    "            dic[j][0] += 1\n",
    "# Число побед\n",
    "for j in dic.keys():\n",
    "    dic[j].append(0)\n",
    "for i in range(len(a)):\n",
    "    if int(a[i][1])>int(a[i][3]):\n",
    "        dic[a[i][0]][1] += 1\n",
    "    elif int(a[i][1])<int(a[i][3]):\n",
    "        dic[a[i][2]][1] += 1\n",
    "# Число ничьих\n",
    "for j in dic.keys():\n",
    "    dic[j].append(0)\n",
    "for i in range(len(a)):\n",
    "    if int(a[i][1])==int(a[i][3]):\n",
    "        dic[a[i][0]][2] += 1\n",
    "        dic[a[i][2]][2] += 1 \n",
    "        \n",
    "# Число поражений\n",
    "for j in dic.keys():\n",
    "    dic[j].append(0)\n",
    "for i in range(len(a)):\n",
    "    if int(a[i][1])<int(a[i][3]):\n",
    "        dic[a[i][0]][3] += 1\n",
    "    elif int(a[i][1])>int(a[i][3]):\n",
    "        dic[a[i][2]][3] += 1\n",
    "# Число очков\n",
    "for j in dic.keys():\n",
    "    dic[j].append(0)\n",
    "for j in dic.keys():\n",
    "    if dic[j][1] > 0:\n",
    "        dic[j][4] += dic[j][1]*3\n",
    "    if dic[j][2] > 0:\n",
    "        dic[j][4] += dic[j][2]\n",
    "for j in dic.keys():\n",
    "    print(j,end = ': ')\n",
    "    print(*dic[j])"
   ]
  },
  {
   "cell_type": "code",
   "execution_count": 66,
   "metadata": {},
   "outputs": [],
   "source": []
  },
  {
   "cell_type": "markdown",
   "metadata": {},
   "source": [
    "В какой-то момент в Институте биоинформатики биологи перестали понимать, что говорят информатики: они говорили каким-то странным набором звуков.\n",
    "\n",
    "В какой-то момент один из биологов раскрыл секрет информатиков: они использовали при общении подстановочный шифр, т.е. заменяли каждый символ исходного сообщения на соответствующий ему другой символ. Биологи раздобыли ключ к шифру и теперь нуждаются в помощи:\n",
    "\n",
    "Напишите программу, которая умеет шифровать и расшифровывать шифр подстановки. Программа принимает на вход две строки одинаковой длины, на первой строке записаны символы исходного алфавита, на второй строке — символы конечного алфавита, после чего идёт строка, которую нужно зашифровать переданным ключом, и ещё одна строка, которую нужно расшифровать.\n",
    "\n",
    "Пусть, например, на вход программе передано:\n",
    "abcd\n",
    "*d%#\n",
    "abacabadaba\n",
    "#*%*d*%\n",
    "\n",
    "Это значит, что символ a исходного сообщения заменяется на символ * в шифре, b заменяется на d, c — на % и d — на #.\n",
    "Нужно зашифровать строку abacabadaba и расшифровать строку #*%*d*% с помощью этого шифра. Получаем следующие строки, которые и передаём на вывод программы:\n",
    "*d*%*d*#*d*\n",
    "dacabac"
   ]
  },
  {
   "cell_type": "code",
   "execution_count": 148,
   "metadata": {},
   "outputs": [
    {
     "name": "stdout",
     "output_type": "stream",
     "text": [
      "dcba\n",
      "badc\n",
      "dcba\n",
      "badc\n"
     ]
    }
   ],
   "source": [
    "a,b,c,d = input(),input(),input(),input()\n",
    "dic = {}\n",
    "l = []\n",
    "k = 0\n",
    "for i in a:\n",
    "    dic[i] = b[k]\n",
    "    k += 1\n",
    "for i in c:\n",
    "    l.append(dic[i]) \n",
    "for i in l:\n",
    "    print(i,end='')\n",
    "print()\n",
    "dicr = {}\n",
    "lr = []\n",
    "kr = 0\n",
    "for i in b:\n",
    "    dicr[i] = a[kr]\n",
    "    kr += 1\n",
    "for i in d:\n",
    "    lr.append(dicr[i]) \n",
    "for i in lr:\n",
    "    print(i,end='')\n"
   ]
  },
  {
   "cell_type": "code",
   "execution_count": null,
   "metadata": {},
   "outputs": [],
   "source": []
  },
  {
   "cell_type": "markdown",
   "metadata": {},
   "source": [
    "Простейшая система проверки орфографии может быть основана на использовании списка известных слов.\n",
    "Если введённое слово не найдено в этом списке, оно помечается как \"ошибка\".\n",
    "\n",
    "Попробуем написать подобную систему.\n",
    "\n",
    "На вход программе первой строкой передаётся количество dd известных нам слов, после чего на dd строках указываются эти слова. Затем передаётся количество ll строк текста для проверки, после чего ll строк текста.\n",
    "\n",
    "Выведите уникальные \"ошибки\" в произвольном порядке. Работу производите без учёта регистра."
   ]
  },
  {
   "cell_type": "code",
   "execution_count": 184,
   "metadata": {},
   "outputs": [
    {
     "name": "stdout",
     "output_type": "stream",
     "text": [
      "4\n",
      "champions\n",
      "we\n",
      "are\n",
      "Stepik\n",
      "3\n",
      "We are the champignons\n",
      "We Are The Champions\n",
      "Stepic\n",
      "champignons\n",
      "stepic\n",
      "the\n"
     ]
    }
   ],
   "source": [
    "d = int(input())\n",
    "words = []\n",
    "for i in range(d):\n",
    "    word = input().lower()\n",
    "    words.append(word)\n",
    "\n",
    "l = int(input())\n",
    "lines = []\n",
    "for i in range(l):\n",
    "    line = input().split()\n",
    "    for i in line:\n",
    "        lines.append(i.lower())\n",
    "mistakes = []\n",
    "for i in lines:\n",
    "    if i not in words:\n",
    "        mistakes.append(i)\n",
    "for i in set(mistakes):\n",
    "    print(i)"
   ]
  },
  {
   "cell_type": "code",
   "execution_count": null,
   "metadata": {},
   "outputs": [],
   "source": []
  },
  {
   "cell_type": "markdown",
   "metadata": {},
   "source": [
    "Группа биологов в институте биоинформатики завела себе черепашку.\n",
    "\n",
    "После дрессировки черепашка научилась понимать и запоминать указания биологов следующего вида:\n",
    "север 10\n",
    "запад 20\n",
    "юг 30\n",
    "восток 40\n",
    "где первое слово — это направление, в котором должна двигаться черепашка, а число после слова — это положительное расстояние в сантиметрах, которое должна пройти черепашка.\n",
    "\n",
    "Но команды даются быстро, а черепашка ползёт медленно, и программисты догадались, что можно написать программу, которая определит, куда в итоге биологи приведут черепашку. Для этого программисты просят вас написать программу, которая выведет точку, в которой окажется черепашка после всех команд. Для простоты они решили считать, что движение начинается в точке (0, 0), и движение на восток увеличивает первую координату, а на север — вторую.\n",
    "\n",
    "Программе подаётся на вход число команд nn, которые нужно выполнить черепашке, после чего nn строк с самими командами. Вывести нужно два числа в одну строку: первую и вторую координату конечной точки черепашки. Все координаты целочисленные."
   ]
  },
  {
   "cell_type": "code",
   "execution_count": 215,
   "metadata": {},
   "outputs": [
    {
     "name": "stdout",
     "output_type": "stream",
     "text": [
      "2\n",
      "юг 2\n",
      "юг 2\n",
      "0 -2\n"
     ]
    }
   ],
   "source": [
    "n = int(input())\n",
    "coord = {}\n",
    "listok = []\n",
    "x = 0\n",
    "y = 0\n",
    "for i in range(n):\n",
    "    direct = input().split()\n",
    "    listok.append(direct)\n",
    "    coord[direct[0]] =int(direct[1])\n",
    "if 'север' in coord.keys():\n",
    "    y += coord['север']\n",
    "elif 'юг' in coord.keys():\n",
    "    y -= coord['юг']\n",
    "elif 'запад' in coord.keys():\n",
    "    x -= coord['запад']\n",
    "elif 'восток' in coord.keys():\n",
    "    x += coord['восток']\n",
    "print(x,y)"
   ]
  },
  {
   "cell_type": "code",
   "execution_count": 207,
   "metadata": {},
   "outputs": [
    {
     "data": {
      "text/plain": [
       "20"
      ]
     },
     "execution_count": 207,
     "metadata": {},
     "output_type": "execute_result"
    }
   ],
   "source": [
    "x"
   ]
  },
  {
   "cell_type": "code",
   "execution_count": 208,
   "metadata": {},
   "outputs": [
    {
     "data": {
      "text/plain": [
       "-20"
      ]
     },
     "execution_count": 208,
     "metadata": {},
     "output_type": "execute_result"
    }
   ],
   "source": [
    "y"
   ]
  },
  {
   "cell_type": "code",
   "execution_count": 209,
   "metadata": {},
   "outputs": [
    {
     "name": "stdout",
     "output_type": "stream",
     "text": [
      "20 -20\n"
     ]
    }
   ],
   "source": [
    "print(x,y)"
   ]
  },
  {
   "cell_type": "code",
   "execution_count": null,
   "metadata": {},
   "outputs": [],
   "source": []
  }
 ],
 "metadata": {
  "kernelspec": {
   "display_name": "Python 3",
   "language": "python",
   "name": "python3"
  },
  "language_info": {
   "codemirror_mode": {
    "name": "ipython",
    "version": 3
   },
   "file_extension": ".py",
   "mimetype": "text/x-python",
   "name": "python",
   "nbconvert_exporter": "python",
   "pygments_lexer": "ipython3",
   "version": "3.7.7"
  }
 },
 "nbformat": 4,
 "nbformat_minor": 4
}
